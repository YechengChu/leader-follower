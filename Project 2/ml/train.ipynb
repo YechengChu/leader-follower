{
 "cells": [
  {
   "cell_type": "code",
   "execution_count": 1,
   "metadata": {},
   "outputs": [],
   "source": [
    "import pandas as pd\n",
    "import torch\n",
    "from torch import nn\n",
    "from torchsummaryX import summary\n",
    "\n",
    "import time\n",
    "from pathlib import Path\n",
    "\n",
    "from ml.config import follower_mk1_config, follower_mk2_config, follower_mk3_config\n",
    "from ml.train import find_optimize_price, get_lr\n",
    "from ml.model import FollowerReactionModel, PriceOptimizerModel"
   ]
  },
  {
   "cell_type": "code",
   "execution_count": 2,
   "metadata": {},
   "outputs": [],
   "source": [
    "def extract_data(excel_file, sheet_name, config):\n",
    "    x, y = pd.read_excel(excel_file, sheet_name=sheet_name)[[\"Leader's Price\", \"Follower's Price\"]].to_numpy().T\n",
    "    if config['use_date']:\n",
    "        x = [[data, date] for date, data in enumerate(x, 1)]\n",
    "    else:\n",
    "        x = [[data] for data in x]\n",
    "    y = [[data] for data in y]\n",
    "    return torch.tensor(x, device=config['device']), torch.tensor(y, device=config['device'])\n"
   ]
  },
  {
   "cell_type": "code",
   "execution_count": 3,
   "outputs": [],
   "source": [
    "def model_summary(model, config):\n",
    "    inp = torch.rand(2 if config['use_date'] else 1)\n",
    "    summary(model, inp)"
   ],
   "metadata": {
    "collapsed": false,
    "pycharm": {
     "name": "#%%\n"
    }
   }
  },
  {
   "cell_type": "code",
   "execution_count": 4,
   "metadata": {
    "scrolled": true
   },
   "outputs": [],
   "source": [
    "def train(config, model, x, y):\n",
    "\n",
    "    lr = config['train_follower_reaction_lr']\n",
    "    device = config['device']\n",
    "    no_change_epochs = config['train_follower_reaction_no_change_epochs']\n",
    "    print_interval = config['train_follower_reaction_print_interval']\n",
    "    round_digits = config['train_follower_reaction_round_digits']\n",
    "    scheduler_patience = config['train_follower_reaction_scheduler_patience']\n",
    "    output_dir = config['output_dir']\n",
    "\n",
    "    loss_func = nn.MSELoss()\n",
    "    optimizer = torch.optim.SGD(model.parameters(), lr=lr)\n",
    "    scheduler = torch.optim.lr_scheduler.ReduceLROnPlateau(optimizer, patience=scheduler_patience)\n",
    "\n",
    "    losses = []\n",
    "    i = 1\n",
    "    last_output_time = time.time()\n",
    "    while len(losses) < no_change_epochs or len(set(losses[-no_change_epochs:])) > 1:\n",
    "        epoch_losses = []\n",
    "        for inp, tar in zip(x, y):\n",
    "            model.train().to(device)\n",
    "            inp = inp.to(device).float()\n",
    "            tar = tar.to(device).float()\n",
    "            out = model(inp)\n",
    "            loss = loss_func(out, tar)\n",
    "            optimizer.zero_grad()\n",
    "            loss.backward()\n",
    "            optimizer.step()\n",
    "            epoch_losses.append(loss.item())\n",
    "\n",
    "        loss = round(sum(epoch_losses) / len(epoch_losses), round_digits)\n",
    "        scheduler.step(loss)\n",
    "        losses.append(loss)\n",
    "        curr_time = time.time()\n",
    "        if print_interval and (curr_time - last_output_time >= print_interval):\n",
    "            print(f'[train] [epochs={i}] [lr={get_lr(optimizer)}] loss: {loss:.4f}')\n",
    "            last_output_time = curr_time\n",
    "        i += 1\n",
    "\n",
    "    model_dir = f'{output_dir}/model_state_dict.torch'\n",
    "    print(model_dir)\n",
    "    torch.save(model.state_dict(), model_dir)"
   ]
  },
  {
   "cell_type": "code",
   "execution_count": 5,
   "outputs": [],
   "source": [
    "from pprint import pprint\n",
    "\n",
    "def experiment(config):\n",
    "    pprint(config)\n",
    "    excel_file = config['excel_file']\n",
    "    sheet_name = config['sheet_name']\n",
    "    device = config['device']\n",
    "    init_price = config['find_optimal_price_init_price']\n",
    "    output_dir = config['output_dir']\n",
    "\n",
    "    Path(output_dir).mkdir(parents=True, exist_ok=True)\n",
    "\n",
    "    x, y = extract_data(excel_file, sheet_name, config)\n",
    "\n",
    "    reaction_model = FollowerReactionModel(config)\n",
    "    model_summary(reaction_model, config)\n",
    "    train(config, reaction_model, x, y)\n",
    "\n",
    "    price_optimizer = PriceOptimizerModel(reaction_model,\n",
    "                                          init_price=init_price,\n",
    "                                          device=device,\n",
    "                                          date=config['date'])\n",
    "    price = find_optimize_price(config, price_optimizer)\n",
    "\n",
    "    print(f'optimal price: {price.item()}')"
   ],
   "metadata": {
    "collapsed": false,
    "pycharm": {
     "name": "#%%\n"
    }
   }
  },
  {
   "cell_type": "code",
   "execution_count": 6,
   "outputs": [],
   "source": [
    "# experiment(follower_mk1_config)"
   ],
   "metadata": {
    "collapsed": false,
    "pycharm": {
     "name": "#%%\n"
    }
   }
  },
  {
   "cell_type": "code",
   "execution_count": 7,
   "outputs": [],
   "source": [
    "# experiment(follower_mk2_config)"
   ],
   "metadata": {
    "collapsed": false,
    "pycharm": {
     "name": "#%%\n"
    }
   }
  },
  {
   "cell_type": "code",
   "execution_count": 11,
   "outputs": [
    {
     "name": "stdout",
     "output_type": "stream",
     "text": [
      "{'date': 101,\n",
      " 'device': 'cpu',\n",
      " 'emb': True,\n",
      " 'excel_file': '../data14.xls',\n",
      " 'find_optimal_price_init_price': 1.7,\n",
      " 'find_optimal_price_lr': 0.001,\n",
      " 'find_optimal_price_no_change_epochs': 1000,\n",
      " 'find_optimal_price_print_interval': 2,\n",
      " 'find_optimal_price_round_digits': 4,\n",
      " 'find_optimal_price_scheduler_patience': 50,\n",
      " 'layer_config': [8, 'relu', 6, 'relu', 2, 1],\n",
      " 'output_dir': 'mk3_test',\n",
      " 'sheet_name': 'Follower_Mk3',\n",
      " 'train_follower_reaction_lr': 0.01,\n",
      " 'train_follower_reaction_no_change_epochs': 50,\n",
      " 'train_follower_reaction_print_interval': 2,\n",
      " 'train_follower_reaction_round_digits': 5,\n",
      " 'train_follower_reaction_scheduler_patience': 10,\n",
      " 'use_date': True}\n",
      "==============================================================\n",
      "                  Kernel Shape Output Shape Params Mult-Adds\n",
      "Layer                                                       \n",
      "0_emb                   [1, 2]          [2]    4.0       2.0\n",
      "1_emb_linear            [2, 1]          [1]    3.0       2.0\n",
      "2_layers.Linear_0       [2, 8]          [8]   24.0      16.0\n",
      "3_layers.ReLU_1              -          [8]      -         -\n",
      "4_layers.Linear_2       [8, 6]          [6]   54.0      48.0\n",
      "5_layers.ReLU_3              -          [6]      -         -\n",
      "6_layers.Linear_4       [6, 2]          [2]   14.0      12.0\n",
      "7_layers.Linear_5       [2, 1]          [1]    3.0       2.0\n",
      "--------------------------------------------------------------\n",
      "                      Totals\n",
      "Total params           102.0\n",
      "Trainable params       102.0\n",
      "Non-trainable params     0.0\n",
      "Mult-Adds               82.0\n",
      "==============================================================\n",
      "[train] [epochs=21] [lr=0.01] loss: 0.0015\n",
      "[train] [epochs=42] [lr=0.01] loss: 0.0009\n",
      "[train] [epochs=61] [lr=0.01] loss: 0.0007\n",
      "[train] [epochs=82] [lr=0.01] loss: 0.0007\n",
      "[train] [epochs=105] [lr=0.01] loss: 0.0006\n",
      "[train] [epochs=128] [lr=0.0001] loss: 0.0006\n",
      "[train] [epochs=150] [lr=1e-06] loss: 0.0006\n",
      "[train] [epochs=172] [lr=1e-08] loss: 0.0006\n",
      "mk3_test/model_state_dict.torch\n",
      "[optimize] [epochs=2925] [lr=0.001] loss: -0.6491\n",
      "optimal price: 1.8055397272109985\n"
     ]
    }
   ],
   "source": [
    "# config = follower_mk2_config\n",
    "# config.update({\n",
    "#     'find_optimal_price_print_interval': None\n",
    "# })\n",
    "# follower_reaction_model = FollowerReactionModel(config)\n",
    "# state_dict_dir = f'{config[\"output_dir\"]}/model_state_dict.torch'\n",
    "# follower_reaction_model.load_state_dict(torch.load(state_dict_dir))\n",
    "# for date in range(101, 111):\n",
    "#     price_optimizer = PriceOptimizerModel(follower_reaction_model,\n",
    "#                                           init_price=config['find_optimal_price_init_price'],\n",
    "#                                           device=config['device'],\n",
    "#                                           date=date)\n",
    "#     price = find_optimize_price(config, price_optimizer)\n",
    "#     print(f'date={price.item()}')\n",
    "\n",
    "follower_mk3_config.update({\n",
    "    'output_dir': 'mk3_test',\n",
    "    'use_date': True,\n",
    "    'date': 101,\n",
    "    'layer_config': [8, 'relu', 6, 'relu', 2, 1],\n",
    "    'emb': True\n",
    "})\n",
    "experiment(follower_mk3_config)"
   ],
   "metadata": {
    "collapsed": false,
    "pycharm": {
     "name": "#%%\n"
    }
   }
  }
 ],
 "metadata": {
  "kernelspec": {
   "display_name": "Python 3",
   "language": "python",
   "name": "python3"
  },
  "language_info": {
   "codemirror_mode": {
    "name": "ipython",
    "version": 3
   },
   "file_extension": ".py",
   "mimetype": "text/x-python",
   "name": "python",
   "nbconvert_exporter": "python",
   "pygments_lexer": "ipython3",
   "version": "3.8.6"
  }
 },
 "nbformat": 4,
 "nbformat_minor": 4
}